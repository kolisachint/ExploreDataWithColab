{
  "nbformat": 4,
  "nbformat_minor": 0,
  "metadata": {
    "colab": {
      "name": "Getting started with BigQuery",
      "version": "0.3.2",
      "provenance": [],
      "collapsed_sections": [
        "HeZN5bOEl2iI"
      ],
      "toc_visible": true,
      "include_colab_link": true
    },
    "kernelspec": {
      "display_name": "Python 3",
      "name": "python3"
    }
  },
  "cells": [
    {
      "cell_type": "markdown",
      "metadata": {
        "id": "view-in-github",
        "colab_type": "text"
      },
      "source": [
        "<a href=\"https://colab.research.google.com/github/kolisachint/ExploreDataWithColab/blob/master/ExploreDataTemplate_V2.ipynb\" target=\"_parent\"><img src=\"https://colab.research.google.com/assets/colab-badge.svg\" alt=\"Open In Colab\"/></a>"
      ]
    },
    {
      "metadata": {
        "colab_type": "text",
        "id": "KcAZ2RHCg_Ze"
      },
      "cell_type": "markdown",
      "source": [
        "# Before you begin\n",
        "\n",
        "\n",
        "1.   Use the [Cloud Resource Manager](https://console.cloud.google.com/cloud-resource-manager) to Create a Cloud Platform project if you do not already have one.\n",
        "2.   [Enable BigQuery](https://console.cloud.google.com/flows/enableapi?apiid=bigquery) APIs for the project.\n"
      ]
    },
    {
      "metadata": {
        "id": "UL1SH-NVm-OP",
        "colab_type": "text"
      },
      "cell_type": "markdown",
      "source": [
        "### Provide your credentials to the runtime"
      ]
    },
    {
      "metadata": {
        "id": "TRzgUrbsm_jM",
        "colab_type": "code",
        "outputId": "78746c67-79ff-4d14-b7db-e99575018f76",
        "colab": {
          "base_uri": "https://localhost:8080/",
          "height": 34
        }
      },
      "cell_type": "code",
      "source": [
        "from google.colab import auth\n",
        "auth.authenticate_user()\n",
        "print('Authenticated')"
      ],
      "execution_count": 1,
      "outputs": [
        {
          "output_type": "stream",
          "text": [
            "Authenticated\n"
          ],
          "name": "stdout"
        }
      ]
    },
    {
      "metadata": {
        "colab_type": "text",
        "id": "LPNcomY_A0wj"
      },
      "cell_type": "markdown",
      "source": [
        "### Declare the Cloud project ID which will be used throughout this notebook"
      ]
    },
    {
      "metadata": {
        "colab_type": "code",
        "id": "nFF9Wz1CAyVI",
        "colab": {}
      },
      "cell_type": "code",
      "source": [
        "project_id = 'sachinproject'   # Change Project ID"
      ],
      "execution_count": 0,
      "outputs": []
    },
    {
      "metadata": {
        "colab_type": "text",
        "id": "rPPz4GqHCLOO"
      },
      "cell_type": "markdown",
      "source": [
        "### Use BigQuery through google-cloud-bigquery\n",
        "\n",
        "See [BigQuery documentation](https://cloud.google.com/bigquery/docs) and [library reference documentation](https://googlecloudplatform.github.io/google-cloud-python/latest/bigquery/usage.html).\n"
      ]
    },
    {
      "metadata": {
        "id": "6Zqobr6cgpPC",
        "colab_type": "code",
        "colab": {}
      },
      "cell_type": "code",
      "source": [
        "from google.cloud import bigquery\n",
        "client = bigquery.Client(project=project_id)"
      ],
      "execution_count": 0,
      "outputs": []
    },
    {
      "metadata": {
        "id": "66MDrM3WnKZX",
        "colab_type": "text"
      },
      "cell_type": "markdown",
      "source": [
        "### Prepare your query here\n",
        "Prepare your query here"
      ]
    },
    {
      "metadata": {
        "id": "ATFJB_YQnOFk",
        "colab_type": "code",
        "colab": {}
      },
      "cell_type": "code",
      "source": [
        "myQUERY = \"\"\"\n",
        "        SELECT license, COUNT(*) AS count\n",
        "        FROM `bigquery-public-data.github_repos.licenses`\n",
        "        GROUP BY license\n",
        "        ORDER BY COUNT(*) DESC\n",
        "        \"\"\""
      ],
      "execution_count": 0,
      "outputs": []
    },
    {
      "metadata": {
        "id": "ciwPDG88mmgs",
        "colab_type": "text"
      },
      "cell_type": "markdown",
      "source": [
        "### Declare your variables here \n",
        "Declare you global variables here"
      ]
    },
    {
      "metadata": {
        "id": "oZN8reTimxQv",
        "colab_type": "code",
        "colab": {}
      },
      "cell_type": "code",
      "source": [
        "BYTES_PER_MB=2**20"
      ],
      "execution_count": 0,
      "outputs": []
    },
    {
      "metadata": {
        "id": "PEEsGIY_du9g",
        "colab_type": "text"
      },
      "cell_type": "markdown",
      "source": [
        "###Estimate the size of your queries before you make them\n",
        "Now for the really cool part. We’re eager to start analyzing the BigQuery dataset to uncover insights, but we should be careful about how much data we scan in our queries. Let’s make those free 1TB count!"
      ]
    },
    {
      "metadata": {
        "id": "5N0CoE7Ha63F",
        "colab_type": "code",
        "outputId": "32f948e0-07b6-49e4-87ea-b680a6035c03",
        "colab": {
          "base_uri": "https://localhost:8080/",
          "height": 34
        }
      },
      "cell_type": "code",
      "source": [
        "dry_run_config = bigquery.job.QueryJobConfig()\n",
        "dry_run_config.dry_run = True\n",
        "dry_run_job = client.query(myQUERY, job_config=dry_run_config)\n",
        "print(\"This query will process \",dry_run_job.total_bytes_processed / BYTES_PER_MB,\"MB when run. \")"
      ],
      "execution_count": 14,
      "outputs": [
        {
          "output_type": "stream",
          "text": [
            "This query will process  24.800643920898438 MB when run. \n"
          ],
          "name": "stdout"
        }
      ]
    },
    {
      "metadata": {
        "colab_type": "text",
        "id": "5nasv8xyFd8i"
      },
      "cell_type": "markdown",
      "source": [
        "### Execute your query\n",
        "Execute your query here.\n",
        "# Do not run this cell until necessary :)"
      ]
    },
    {
      "metadata": {
        "colab_type": "code",
        "id": "gisPvdr4Eaui",
        "outputId": "264280e2-57fb-4992-c1e8-e095d8d7ba74",
        "colab": {
          "base_uri": "https://localhost:8080/",
          "height": 34
        }
      },
      "cell_type": "code",
      "source": [
        "df = client.query(myQUERY).to_dataframe()\n",
        "\n",
        "print('Full dataset has %d rows and %d columns. ' % (df.shape[0], df.shape[1]))"
      ],
      "execution_count": 15,
      "outputs": [
        {
          "output_type": "stream",
          "text": [
            "Full dataset has 15 rows and 2 columns. \n"
          ],
          "name": "stdout"
        }
      ]
    },
    {
      "metadata": {
        "colab_type": "text",
        "id": "OpJPmojxGfYO"
      },
      "cell_type": "markdown",
      "source": [
        "### Describe the sampled data"
      ]
    },
    {
      "metadata": {
        "colab_type": "code",
        "id": "YQQGTYsxGeS0",
        "outputId": "b89e25a2-c9e9-405d-8957-5d0f9758e653",
        "colab": {
          "base_uri": "https://localhost:8080/",
          "height": 297
        }
      },
      "cell_type": "code",
      "source": [
        "df.describe()"
      ],
      "execution_count": 16,
      "outputs": [
        {
          "output_type": "execute_result",
          "data": {
            "text/html": [
              "<div>\n",
              "<style scoped>\n",
              "    .dataframe tbody tr th:only-of-type {\n",
              "        vertical-align: middle;\n",
              "    }\n",
              "\n",
              "    .dataframe tbody tr th {\n",
              "        vertical-align: top;\n",
              "    }\n",
              "\n",
              "    .dataframe thead th {\n",
              "        text-align: right;\n",
              "    }\n",
              "</style>\n",
              "<table border=\"1\" class=\"dataframe\">\n",
              "  <thead>\n",
              "    <tr style=\"text-align: right;\">\n",
              "      <th></th>\n",
              "      <th>count</th>\n",
              "    </tr>\n",
              "  </thead>\n",
              "  <tbody>\n",
              "    <tr>\n",
              "      <th>count</th>\n",
              "      <td>1.500000e+01</td>\n",
              "    </tr>\n",
              "    <tr>\n",
              "      <th>mean</th>\n",
              "      <td>2.233240e+05</td>\n",
              "    </tr>\n",
              "    <tr>\n",
              "      <th>std</th>\n",
              "      <td>4.384666e+05</td>\n",
              "    </tr>\n",
              "    <tr>\n",
              "      <th>min</th>\n",
              "      <td>8.695000e+03</td>\n",
              "    </tr>\n",
              "    <tr>\n",
              "      <th>25%</th>\n",
              "      <td>2.368500e+04</td>\n",
              "    </tr>\n",
              "    <tr>\n",
              "      <th>50%</th>\n",
              "      <td>4.146600e+04</td>\n",
              "    </tr>\n",
              "    <tr>\n",
              "      <th>75%</th>\n",
              "      <td>2.483625e+05</td>\n",
              "    </tr>\n",
              "    <tr>\n",
              "      <th>max</th>\n",
              "      <td>1.709951e+06</td>\n",
              "    </tr>\n",
              "  </tbody>\n",
              "</table>\n",
              "</div>"
            ],
            "text/plain": [
              "              count\n",
              "count  1.500000e+01\n",
              "mean   2.233240e+05\n",
              "std    4.384666e+05\n",
              "min    8.695000e+03\n",
              "25%    2.368500e+04\n",
              "50%    4.146600e+04\n",
              "75%    2.483625e+05\n",
              "max    1.709951e+06"
            ]
          },
          "metadata": {
            "tags": []
          },
          "execution_count": 16
        }
      ]
    },
    {
      "metadata": {
        "colab_type": "text",
        "id": "wESi-OdKGZba"
      },
      "cell_type": "markdown",
      "source": [
        "### View the first 10 rows"
      ]
    },
    {
      "metadata": {
        "colab_type": "code",
        "id": "2DrH3X4nGQoU",
        "outputId": "555cc79d-9086-48b4-eaa1-d59672fc6cba",
        "colab": {
          "base_uri": "https://localhost:8080/",
          "height": 359
        }
      },
      "cell_type": "code",
      "source": [
        "df.head(10)"
      ],
      "execution_count": 17,
      "outputs": [
        {
          "output_type": "execute_result",
          "data": {
            "text/html": [
              "<div>\n",
              "<style scoped>\n",
              "    .dataframe tbody tr th:only-of-type {\n",
              "        vertical-align: middle;\n",
              "    }\n",
              "\n",
              "    .dataframe tbody tr th {\n",
              "        vertical-align: top;\n",
              "    }\n",
              "\n",
              "    .dataframe thead th {\n",
              "        text-align: right;\n",
              "    }\n",
              "</style>\n",
              "<table border=\"1\" class=\"dataframe\">\n",
              "  <thead>\n",
              "    <tr style=\"text-align: right;\">\n",
              "      <th></th>\n",
              "      <th>license</th>\n",
              "      <th>count</th>\n",
              "    </tr>\n",
              "  </thead>\n",
              "  <tbody>\n",
              "    <tr>\n",
              "      <th>0</th>\n",
              "      <td>mit</td>\n",
              "      <td>1709951</td>\n",
              "    </tr>\n",
              "    <tr>\n",
              "      <th>1</th>\n",
              "      <td>apache-2.0</td>\n",
              "      <td>493503</td>\n",
              "    </tr>\n",
              "    <tr>\n",
              "      <th>2</th>\n",
              "      <td>gpl-2.0</td>\n",
              "      <td>345571</td>\n",
              "    </tr>\n",
              "    <tr>\n",
              "      <th>3</th>\n",
              "      <td>gpl-3.0</td>\n",
              "      <td>343575</td>\n",
              "    </tr>\n",
              "    <tr>\n",
              "      <th>4</th>\n",
              "      <td>bsd-3-clause</td>\n",
              "      <td>153150</td>\n",
              "    </tr>\n",
              "    <tr>\n",
              "      <th>5</th>\n",
              "      <td>bsd-2-clause</td>\n",
              "      <td>55980</td>\n",
              "    </tr>\n",
              "    <tr>\n",
              "      <th>6</th>\n",
              "      <td>unlicense</td>\n",
              "      <td>46766</td>\n",
              "    </tr>\n",
              "    <tr>\n",
              "      <th>7</th>\n",
              "      <td>agpl-3.0</td>\n",
              "      <td>41466</td>\n",
              "    </tr>\n",
              "    <tr>\n",
              "      <th>8</th>\n",
              "      <td>lgpl-3.0</td>\n",
              "      <td>40068</td>\n",
              "    </tr>\n",
              "    <tr>\n",
              "      <th>9</th>\n",
              "      <td>cc0-1.0</td>\n",
              "      <td>27031</td>\n",
              "    </tr>\n",
              "  </tbody>\n",
              "</table>\n",
              "</div>"
            ],
            "text/plain": [
              "        license    count\n",
              "0           mit  1709951\n",
              "1    apache-2.0   493503\n",
              "2       gpl-2.0   345571\n",
              "3       gpl-3.0   343575\n",
              "4  bsd-3-clause   153150\n",
              "5  bsd-2-clause    55980\n",
              "6     unlicense    46766\n",
              "7      agpl-3.0    41466\n",
              "8      lgpl-3.0    40068\n",
              "9       cc0-1.0    27031"
            ]
          },
          "metadata": {
            "tags": []
          },
          "execution_count": 17
        }
      ]
    },
    {
      "metadata": {
        "id": "hHrPiKHbp45V",
        "colab_type": "text"
      },
      "cell_type": "markdown",
      "source": [
        "### Show all contents of dataframe"
      ]
    },
    {
      "metadata": {
        "id": "i7bzWgJ5p95l",
        "colab_type": "code",
        "outputId": "34ddce02-a1e8-4bb8-b48a-e3b6510da17c",
        "colab": {
          "base_uri": "https://localhost:8080/",
          "height": 514
        }
      },
      "cell_type": "code",
      "source": [
        "df"
      ],
      "execution_count": 18,
      "outputs": [
        {
          "output_type": "execute_result",
          "data": {
            "text/html": [
              "<div>\n",
              "<style scoped>\n",
              "    .dataframe tbody tr th:only-of-type {\n",
              "        vertical-align: middle;\n",
              "    }\n",
              "\n",
              "    .dataframe tbody tr th {\n",
              "        vertical-align: top;\n",
              "    }\n",
              "\n",
              "    .dataframe thead th {\n",
              "        text-align: right;\n",
              "    }\n",
              "</style>\n",
              "<table border=\"1\" class=\"dataframe\">\n",
              "  <thead>\n",
              "    <tr style=\"text-align: right;\">\n",
              "      <th></th>\n",
              "      <th>license</th>\n",
              "      <th>count</th>\n",
              "    </tr>\n",
              "  </thead>\n",
              "  <tbody>\n",
              "    <tr>\n",
              "      <th>0</th>\n",
              "      <td>mit</td>\n",
              "      <td>1709951</td>\n",
              "    </tr>\n",
              "    <tr>\n",
              "      <th>1</th>\n",
              "      <td>apache-2.0</td>\n",
              "      <td>493503</td>\n",
              "    </tr>\n",
              "    <tr>\n",
              "      <th>2</th>\n",
              "      <td>gpl-2.0</td>\n",
              "      <td>345571</td>\n",
              "    </tr>\n",
              "    <tr>\n",
              "      <th>3</th>\n",
              "      <td>gpl-3.0</td>\n",
              "      <td>343575</td>\n",
              "    </tr>\n",
              "    <tr>\n",
              "      <th>4</th>\n",
              "      <td>bsd-3-clause</td>\n",
              "      <td>153150</td>\n",
              "    </tr>\n",
              "    <tr>\n",
              "      <th>5</th>\n",
              "      <td>bsd-2-clause</td>\n",
              "      <td>55980</td>\n",
              "    </tr>\n",
              "    <tr>\n",
              "      <th>6</th>\n",
              "      <td>unlicense</td>\n",
              "      <td>46766</td>\n",
              "    </tr>\n",
              "    <tr>\n",
              "      <th>7</th>\n",
              "      <td>agpl-3.0</td>\n",
              "      <td>41466</td>\n",
              "    </tr>\n",
              "    <tr>\n",
              "      <th>8</th>\n",
              "      <td>lgpl-3.0</td>\n",
              "      <td>40068</td>\n",
              "    </tr>\n",
              "    <tr>\n",
              "      <th>9</th>\n",
              "      <td>cc0-1.0</td>\n",
              "      <td>27031</td>\n",
              "    </tr>\n",
              "    <tr>\n",
              "      <th>10</th>\n",
              "      <td>epl-1.0</td>\n",
              "      <td>24406</td>\n",
              "    </tr>\n",
              "    <tr>\n",
              "      <th>11</th>\n",
              "      <td>lgpl-2.1</td>\n",
              "      <td>22964</td>\n",
              "    </tr>\n",
              "    <tr>\n",
              "      <th>12</th>\n",
              "      <td>mpl-2.0</td>\n",
              "      <td>18924</td>\n",
              "    </tr>\n",
              "    <tr>\n",
              "      <th>13</th>\n",
              "      <td>isc</td>\n",
              "      <td>17810</td>\n",
              "    </tr>\n",
              "    <tr>\n",
              "      <th>14</th>\n",
              "      <td>artistic-2.0</td>\n",
              "      <td>8695</td>\n",
              "    </tr>\n",
              "  </tbody>\n",
              "</table>\n",
              "</div>"
            ],
            "text/plain": [
              "         license    count\n",
              "0            mit  1709951\n",
              "1     apache-2.0   493503\n",
              "2        gpl-2.0   345571\n",
              "3        gpl-3.0   343575\n",
              "4   bsd-3-clause   153150\n",
              "5   bsd-2-clause    55980\n",
              "6      unlicense    46766\n",
              "7       agpl-3.0    41466\n",
              "8       lgpl-3.0    40068\n",
              "9        cc0-1.0    27031\n",
              "10       epl-1.0    24406\n",
              "11      lgpl-2.1    22964\n",
              "12       mpl-2.0    18924\n",
              "13           isc    17810\n",
              "14  artistic-2.0     8695"
            ]
          },
          "metadata": {
            "tags": []
          },
          "execution_count": 18
        }
      ]
    }
  ]
}
