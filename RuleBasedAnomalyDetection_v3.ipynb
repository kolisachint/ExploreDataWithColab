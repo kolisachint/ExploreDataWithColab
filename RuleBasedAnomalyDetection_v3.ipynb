{
  "nbformat": 4,
  "nbformat_minor": 0,
  "metadata": {
    "colab": {
      "name": "RuleBasedAnomalyDetection-v3 (3).ipynb",
      "version": "0.3.2",
      "provenance": []
    },
    "language_info": {
      "codemirror_mode": {
        "name": "ipython",
        "version": 3
      },
      "file_extension": ".py",
      "mimetype": "text/x-python",
      "name": "python",
      "nbconvert_exporter": "python",
      "pygments_lexer": "ipython3",
      "version": "3.6.6"
    },
    "kernelspec": {
      "display_name": "rl",
      "language": "python",
      "name": "rl"
    }
  },
  "cells": [
    {
      "metadata": {
        "id": "EXgG95DRwvvT",
        "colab_type": "code",
        "colab": {}
      },
      "cell_type": "code",
      "source": [
        "# Importing dependency libraries\n",
        "import os\n",
        "import numpy as np\n",
        "import pandas as pd\n",
        "pd.set_option('display.max_rows', 5000)\n",
        "pd.set_option('display.max_columns', 5000)\n",
        "pd.set_option('display.float_format', lambda x: '%.2f' % x)\n",
        "#from google.cloud import bigquery\n",
        "import glob\n",
        "import matplotlib.pyplot as plt\n",
        "%matplotlib inline\n",
        "import math\n",
        "from ipywidgets import interact, IntSlider\n",
        "from IPython.display import display\n",
        "##bigquery_client = bigquery.Client()\n",
        "import warnings; warnings.simplefilter('ignore')\n"
      ],
      "execution_count": 0,
      "outputs": []
    },
    {
      "metadata": {
        "id": "dZUxGxpSwvvh",
        "colab_type": "code",
        "colab": {}
      },
      "cell_type": "code",
      "source": [
        "#defining the thresholds\n",
        "Threshold_3yrMA=0.1\n",
        "Threshold_lastyear=0.1\n",
        "Threshold_lastweek=0.1\n",
        "Threshold_3weekMA=0.1\n",
        "Threshold_avgStore=0.1"
      ],
      "execution_count": 0,
      "outputs": []
    },
    {
      "metadata": {
        "id": "sdSMDanewvvn",
        "colab_type": "text"
      },
      "cell_type": "markdown",
      "source": [
        "#### Importing the data"
      ]
    },
    {
      "metadata": {
        "id": "g-pSDthGwvvp",
        "colab_type": "code",
        "colab": {}
      },
      "cell_type": "code",
      "source": [
        "allFiles = glob.glob(\"../bratin/opr_data_all_store_4yr/*.csv\")\n",
        "#glob uses \n",
        "frame = pd.DataFrame()\n",
        "list_ = []\n",
        "for file_ in allFiles:\n",
        "    df = pd.read_csv(file_,index_col=None, header=0)\n",
        "    list_.append(df)\n",
        "df = pd.concat(list_)"
      ],
      "execution_count": 0,
      "outputs": []
    },
    {
      "metadata": {
        "id": "Llzo_Nstwvvw",
        "colab_type": "code",
        "colab": {},
        "outputId": "bcea80c7-c547-403a-ca9e-597fe76f0f9a"
      },
      "cell_type": "code",
      "source": [
        "df.head()"
      ],
      "execution_count": 0,
      "outputs": [
        {
          "output_type": "execute_result",
          "data": {
            "text/html": [
              "<div>\n",
              "<style scoped>\n",
              "    .dataframe tbody tr th:only-of-type {\n",
              "        vertical-align: middle;\n",
              "    }\n",
              "\n",
              "    .dataframe tbody tr th {\n",
              "        vertical-align: top;\n",
              "    }\n",
              "\n",
              "    .dataframe thead th {\n",
              "        text-align: right;\n",
              "    }\n",
              "</style>\n",
              "<table border=\"1\" class=\"dataframe\">\n",
              "  <thead>\n",
              "    <tr style=\"text-align: right;\">\n",
              "      <th></th>\n",
              "      <th>locn_nbr</th>\n",
              "      <th>mth_desc</th>\n",
              "      <th>wk_nbr</th>\n",
              "      <th>soar_nm</th>\n",
              "      <th>div_nm</th>\n",
              "      <th>ln_dept_desc</th>\n",
              "      <th>sub_ln_catg_grp_desc</th>\n",
              "      <th>total_quantity</th>\n",
              "      <th>total_sales</th>\n",
              "      <th>total_margin</th>\n",
              "    </tr>\n",
              "  </thead>\n",
              "  <tbody>\n",
              "    <tr>\n",
              "      <th>0</th>\n",
              "      <td>9122</td>\n",
              "      <td>November,2016</td>\n",
              "      <td>201641</td>\n",
              "      <td>ELECTRONICS</td>\n",
              "      <td>HOME ENTERTAINMENT</td>\n",
              "      <td>MOVIES</td>\n",
              "      <td>SBT BLU-RAY DVD SOFTWARE</td>\n",
              "      <td>1</td>\n",
              "      <td>24.99</td>\n",
              "      <td>5.24</td>\n",
              "    </tr>\n",
              "    <tr>\n",
              "      <th>1</th>\n",
              "      <td>1822</td>\n",
              "      <td>July,2018</td>\n",
              "      <td>201825</td>\n",
              "      <td>APPAREL - RTW / WOMENS</td>\n",
              "      <td>SEASONAL APPAREL</td>\n",
              "      <td>OUTERWEAR</td>\n",
              "      <td>MISSES OUTERWEAR</td>\n",
              "      <td>1</td>\n",
              "      <td>15.99</td>\n",
              "      <td>2.87</td>\n",
              "    </tr>\n",
              "    <tr>\n",
              "      <th>2</th>\n",
              "      <td>1217</td>\n",
              "      <td>December,2017</td>\n",
              "      <td>201744</td>\n",
              "      <td>APPLIANCES</td>\n",
              "      <td>HOME ENVIRONMENT</td>\n",
              "      <td>SUPPLEMENTAL HEATING</td>\n",
              "      <td>PORTABLE ELECTRIC HEATERS</td>\n",
              "      <td>2</td>\n",
              "      <td>78.98</td>\n",
              "      <td>47.09</td>\n",
              "    </tr>\n",
              "    <tr>\n",
              "      <th>3</th>\n",
              "      <td>1189</td>\n",
              "      <td>July,2016</td>\n",
              "      <td>201625</td>\n",
              "      <td>APPLIANCES</td>\n",
              "      <td>AIR &amp; WATER APPLIANCES</td>\n",
              "      <td>ROOM AIR CONDITIONERS</td>\n",
              "      <td>LARGE CAPACITY</td>\n",
              "      <td>3</td>\n",
              "      <td>1659.97</td>\n",
              "      <td>676.04</td>\n",
              "    </tr>\n",
              "    <tr>\n",
              "      <th>4</th>\n",
              "      <td>2309</td>\n",
              "      <td>February,2017</td>\n",
              "      <td>201704</td>\n",
              "      <td>APPLIANCES</td>\n",
              "      <td>HOME ENVIRONMENT</td>\n",
              "      <td>AIR CLEANERS</td>\n",
              "      <td>KENMORE AIR CLEANERS</td>\n",
              "      <td>2</td>\n",
              "      <td>184.98</td>\n",
              "      <td>73.19</td>\n",
              "    </tr>\n",
              "  </tbody>\n",
              "</table>\n",
              "</div>"
            ],
            "text/plain": [
              "   locn_nbr       mth_desc  wk_nbr                 soar_nm  \\\n",
              "0      9122  November,2016  201641             ELECTRONICS   \n",
              "1      1822      July,2018  201825  APPAREL - RTW / WOMENS   \n",
              "2      1217  December,2017  201744              APPLIANCES   \n",
              "3      1189      July,2016  201625              APPLIANCES   \n",
              "4      2309  February,2017  201704              APPLIANCES   \n",
              "\n",
              "                   div_nm           ln_dept_desc       sub_ln_catg_grp_desc  \\\n",
              "0      HOME ENTERTAINMENT                 MOVIES   SBT BLU-RAY DVD SOFTWARE   \n",
              "1        SEASONAL APPAREL              OUTERWEAR           MISSES OUTERWEAR   \n",
              "2        HOME ENVIRONMENT   SUPPLEMENTAL HEATING  PORTABLE ELECTRIC HEATERS   \n",
              "3  AIR & WATER APPLIANCES  ROOM AIR CONDITIONERS             LARGE CAPACITY   \n",
              "4        HOME ENVIRONMENT           AIR CLEANERS       KENMORE AIR CLEANERS   \n",
              "\n",
              "   total_quantity  total_sales  total_margin  \n",
              "0               1        24.99          5.24  \n",
              "1               1        15.99          2.87  \n",
              "2               2        78.98         47.09  \n",
              "3               3      1659.97        676.04  \n",
              "4               2       184.98         73.19  "
            ]
          },
          "metadata": {
            "tags": []
          },
          "execution_count": 4
        }
      ]
    },
    {
      "metadata": {
        "id": "RxVn_JJJwvv6",
        "colab_type": "code",
        "colab": {},
        "outputId": "14d56f06-dacd-4ff4-9101-b6a1e9899947"
      },
      "cell_type": "code",
      "source": [
        "df.shape"
      ],
      "execution_count": 0,
      "outputs": [
        {
          "output_type": "execute_result",
          "data": {
            "text/plain": [
              "(46075228, 10)"
            ]
          },
          "metadata": {
            "tags": []
          },
          "execution_count": 5
        }
      ]
    },
    {
      "metadata": {
        "id": "ALupNOl5wvv_",
        "colab_type": "code",
        "colab": {},
        "outputId": "018baf90-b21a-4a64-d3bc-e4e4b1db6078"
      },
      "cell_type": "code",
      "source": [
        "df.wk_nbr.max()"
      ],
      "execution_count": 0,
      "outputs": [
        {
          "output_type": "execute_result",
          "data": {
            "text/plain": [
              "201909"
            ]
          },
          "metadata": {
            "tags": []
          },
          "execution_count": 6
        }
      ]
    },
    {
      "metadata": {
        "id": "cSbphYwUwvwF",
        "colab_type": "text"
      },
      "cell_type": "markdown",
      "source": [
        "#### Creating data fragments for faster searching"
      ]
    },
    {
      "metadata": {
        "id": "hmWCp7jWwvwG",
        "colab_type": "code",
        "colab": {}
      },
      "cell_type": "code",
      "source": [
        "#Creating a dataframe for the location to be explored\n",
        "df_locn = df[df.locn_nbr == 7705]"
      ],
      "execution_count": 0,
      "outputs": []
    },
    {
      "metadata": {
        "id": "_3HAukN8wvwK",
        "colab_type": "code",
        "colab": {}
      },
      "cell_type": "code",
      "source": [
        "#creating test dataframe with the data for current year and in the specified location\n",
        "df_locn_2019 = df_locn[df_locn.wk_nbr >= 201901]"
      ],
      "execution_count": 0,
      "outputs": []
    },
    {
      "metadata": {
        "id": "ON-Yit7EwvwN",
        "colab_type": "code",
        "colab": {}
      },
      "cell_type": "code",
      "source": [
        "#dataframe with current year data across all stores, used for across store comparisons\n",
        "df_2019 = df[df.wk_nbr >= 201901]"
      ],
      "execution_count": 0,
      "outputs": []
    },
    {
      "metadata": {
        "id": "mmUjyb37wvwS",
        "colab_type": "text"
      },
      "cell_type": "markdown",
      "source": [
        "#### Function definitions"
      ]
    },
    {
      "metadata": {
        "id": "eP2e7vl-wvwT",
        "colab_type": "code",
        "colab": {}
      },
      "cell_type": "code",
      "source": [
        "ctg_list = pd.read_csv('category_mean_all_store_2019.csv',index_col=None)\n",
        "\n",
        "'''\n",
        "Rolling average gives us the mean of fixed number of weeks defined by the window. \n",
        "name - Name of the category for which rolling average is needed.\n",
        "wk_nbr - week number for which the rolling average needs to be calculated\n",
        "metric - the metric for which the rolling average is calculated. Options are 'total_sales', 'total_margin' & 'total_quantity'.\n",
        "window - the window length for which the mean has to be calculated. it denotes the number of entries across which the mean will be calculated.\n",
        "'''\n",
        "\n",
        "def rolling_avg(name,wk_nbr,metric,window):\n",
        "    return df_locn[(df_locn.sub_ln_catg_grp_desc == name)&(df_locn.wk_nbr<wk_nbr)].sort_values(['wk_nbr'],ascending=False)[:window][metric].mean()\n",
        "\n",
        "'''\n",
        "Value for week function returns the value for a particular week. Serves as an getter function\n",
        "name - name of the category for which value is needed\n",
        "wk_nbr - week number for value selection\n",
        "metric = the metric for which value has to be fetched\n",
        "'''\n",
        "\n",
        "def value_for_week(name,wk_nbr,metric):\n",
        "    try:\n",
        "        return df_locn[(df_locn.sub_ln_catg_grp_desc == name)&(df_locn.wk_nbr==wk_nbr)][metric].values[0]\n",
        "    except:\n",
        "        return 0.0\n",
        "\n",
        "'''\n",
        "Mean of metrics for a category across all stores.\n",
        "name - name of the category for which mean is needed\n",
        "wk_nbr - week number for which all store mean needs to be calculated\n",
        "metric = the metric for which all store mean is calculated\n",
        "'''\n",
        "def avg_perStoreCtg(name,wk_nbr,metric):\n",
        "    try:\n",
        "        return df_2019[(df_2019.sub_ln_catg_grp_desc == name)&(df_2019.wk_nbr==wk_nbr)][metric].mean()\n",
        "    except:\n",
        "        return np.nan\n",
        "    \n",
        "'''Change compared to the week last year.\n",
        "name - name of the category for which change is to be calculated\n",
        "wk_nbr - week number for which change needs to be calculated\n",
        "metric = the metric for which change has to be calculated\n",
        "'''\n",
        "\n",
        "def change_wow_lastYear(name,wk_nbr,metric):\n",
        "    try:\n",
        "        return 1 - (value_for_week(name=name,wk_nbr=wk_nbr-100,metric=metric) / value_for_week(name=name,wk_nbr=wk_nbr,metric=metric))\n",
        "    except:\n",
        "        return np.nan\n",
        "\n",
        "'''Change compared to the previous week.\n",
        "name - name of the category for which change is to be calculated\n",
        "wk_nbr - week number for which change needs to be calculated\n",
        "metric = the metric for which change has to be calculated\n",
        "'''\n",
        "def change_wow(name,wk_nbr,metric):\n",
        "    try:\n",
        "        if wk_nbr%100 == 1:\n",
        "            return 1 - (value_for_week(name=name,wk_nbr=wk_nbr-49,metric=metric) / value_for_week(name=name,wk_nbr=wk_nbr,metric=metric))\n",
        "        else: \n",
        "            return 1 - (value_for_week(granularity = granularity,name=name,wk_nbr=wk_nbr-1,metric=metric,locn_nbr=locn_nbr) / value_for_week(granularity = granularity,name=name,wk_nbr=wk_nbr,metric=metric,locn_nbr=locn_nbr))\n",
        "    except:\n",
        "        return np.nan \n",
        "\n",
        "'''\n",
        "Change compared to 3 year moving average.\n",
        "name - name of the category for which change is to be calculated\n",
        "wk_nbr - week number for which change needs to be calculated\n",
        "metric = the metric for which change has to be calculated\n",
        "'''\n",
        "    \n",
        "def change_wo3yMA(name,wk_nbr,metric):\n",
        "    try:\n",
        "        return 1 - (rolling_avg(name=name,wk_nbr=wk_nbr,metric=metric,window=156) / value_for_week(name=name,wk_nbr=wk_nbr,metric=metric))\n",
        "    except:\n",
        "        return np.nan\n",
        "'''\n",
        "Change compared to the 3 week .\n",
        "name - name of the category for which change is to be calculated\n",
        "wk_nbr - week number for which change needs to be calculated\n",
        "metric = the metric for which change has to be calculated\n",
        "'''\n",
        "\n",
        "def change_wo3wMA(name,wk_nbr,metric):\n",
        "    try:\n",
        "        return 1 - (rolling_avg(name=name,wk_nbr=wk_nbr,metric=metric,window=3) / value_for_week(name=name,wk_nbr=wk_nbr,metric=metric))\n",
        "    except:\n",
        "        return np.nan\n",
        "'''\n",
        "Change compared to mean of the given metric across all stores .\n",
        "name - name of the category for which change is to be calculated\n",
        "wk_nbr - week number for which change needs to be calculated\n",
        "metric = the metric for which change has to be calculated\n",
        "'''\n",
        "\n",
        "def change_all_store_mean(mean,metric_value):\n",
        "    try:\n",
        "        return 1 - (mean/ metric_value)\n",
        "    except:\n",
        "        return np.nan\n",
        "'''\n",
        "Calculates the comparison columns for the anomaly detection\n",
        "name - name of the category for which change is to be calculated\n",
        "wk_nbr - week number for which change needs to be calculated\n",
        "metric = the metric for which change has to be calculated\n",
        "'''\n",
        "\n",
        "def anomaly_condition_compute(name,wk_nbr,metric):\n",
        "    wk_rollingAvg_3yr = rolling_avg(name=name,wk_nbr=wk_nbr,metric=metric,window=156)\n",
        "    change_3yrRollingAvg = change_wo3yMA( name=name,wk_nbr=wk_nbr,metric=metric ) * 100\n",
        "    wk_last_yr = value_for_week( name=name,wk_nbr=wk_nbr-100,metric=metric )\n",
        "    change_wk_last_yr = change_wow_lastYear( name=name,wk_nbr=wk_nbr,metric=metric ) * 100\n",
        "    last_wk = value_for_week( name=name,wk_nbr=(wk_nbr-1) if (wk_nbr%100 != 1) else (wk_nbr-49),metric=metric )\n",
        "    change_last_3wkMA = change_wo3wMA(name=name,wk_nbr=wk_nbr,metric=metric) * 100\n",
        "    all_store_mean = ctg_list[(ctg_list.sub_ln_catg_grp_desc == name)&(ctg_list.wk_nbr==wk_nbr)]['all_store_mean_'+metric[6:]].values[0]\n",
        "    \n",
        "    return pd.Series([wk_rollingAvg_3yr,change_3yrRollingAvg,wk_last_yr,change_wk_last_yr,last_wk,change_last_3wkMA,all_store_mean])\n",
        "\n",
        "'''\n",
        "Filtering function based on predefined threshold\n",
        "'''\n",
        "    \n",
        "def anomalyRule1(row,metric,threshold_3yrMA=0.1,threshold_lastyear=0.1,threshold_lastweek=0.1,threshold_3weekMA=0.1,threshold_avgStore=0.1):\n",
        "    condition1 = abs(row['change%_'+metric+'_wk_last_yr']) > (threshold_lastyear*100)\n",
        "    condition2 = abs(row['change%_3yrRollingAvg_'+metric])> (threshold_3yrMA*100)\n",
        "    condition3 = abs(row['change%_'+metric+'_last_wk']) > (threshold_lastweek*100)\n",
        "    condition4 = abs(row['change%_'+metric+'_last_3wkMA']) > (threshold_3weekMA*100)\n",
        "    condition5 =abs(row['change%_avg_storeBU']) > (threshold_avgStore*100)\n",
        "    return (condition1 & condition2 & condition3 & condition4 & condition5)"
      ],
      "execution_count": 0,
      "outputs": []
    },
    {
      "metadata": {
        "id": "VBZGQ7grwvwV",
        "colab_type": "text"
      },
      "cell_type": "markdown",
      "source": [
        "## Category Level Detection\n",
        "### Rule 1: \n",
        "If \n",
        "- a) the week over week sales of a category group changes by 10% (+ve or -ve) or more, and \n",
        "- b) compared to the sales of the same week last year, and \n",
        "- c) compared to the average of last 3 years sales in that same week\n",
        "- d) compared to the average of previous 3 weeks\n",
        "- e) compared to the average for that week across all stores\n",
        "<br>\n",
        "then flag the week as an anomaly. \n",
        "\n",
        "For example: if \n",
        "- a) Week 6, 2019 sales in Apparel Mens Activewear Category group is \\\\$79K as compared to week 5, 2019 sales in the same category group was \\\\$35K and \n",
        "- b) sales in week 6, 2018 in the same category group was \\\\$40K and \n",
        "- c) average of sales in last 3 yrs (Week 6 in 2016 - Week 5 in 2019) was \\\\$48K - \n",
        "- d) average of previous 3 weeks (Week 3 in 2019 - Week 5 in 2019) was \\\\$42K\n",
        "- e) average for week 6 2019 across all stores is \\\\$26K\n",
        "<br>\n",
        "then flag week 6, 2019 sales in Apparel Mens Activewear Category group as an anomaly. "
      ]
    },
    {
      "metadata": {
        "id": "8Vfss-RnwvwW",
        "colab_type": "code",
        "colab": {}
      },
      "cell_type": "code",
      "source": [
        "#define the metric for the detection\n",
        "metric='total_sales'\n",
        "#compute the comparison columns\n",
        "newcols = df_locn_2019.apply(lambda row: anomaly_condition_compute(name=row.sub_ln_catg_grp_desc,wk_nbr=row.wk_nbr,metric=metric), axis=1)"
      ],
      "execution_count": 0,
      "outputs": []
    },
    {
      "metadata": {
        "id": "Fcdr8LWTwvwY",
        "colab_type": "code",
        "colab": {}
      },
      "cell_type": "code",
      "source": [
        "#join the computed comparison columns to the test dataframe\n",
        "newcols.columns = ['3yr_rollingAvg_wk_'+metric, 'change%_3yrRollingAvg_'+metric , metric+'_wk_last_yr','change%_'+metric+'_wk_last_yr',metric+'_last_wk','change%_'+metric+'_last_3wkMA','all_store_mean']\n",
        "calculated_df_sales = df_locn_2019.join(newcols) "
      ],
      "execution_count": 0,
      "outputs": []
    },
    {
      "metadata": {
        "id": "kUvUImYMwvwb",
        "colab_type": "code",
        "colab": {}
      },
      "cell_type": "code",
      "source": [
        "#compute the comparison for the average across stores change and change from last week\n",
        "calculated_df_sales['change%_avg_storeBU'] = calculated_df_sales.apply(lambda row: change_all_store_mean(row['all_store_mean'],row[metric]),axis=1) * 100\n",
        "\n",
        "calculated_df_sales['change%_'+metric+'_last_wk']=calculated_df_sales.apply(lambda row: change_wow( name=row.sub_ln_catg_grp_desc,wk_nbr=row.wk_nbr,metric=metric ), axis=1)*100"
      ],
      "execution_count": 0,
      "outputs": []
    },
    {
      "metadata": {
        "id": "LfxoThVhwvwe",
        "colab_type": "code",
        "colab": {},
        "outputId": "5623445b-f3aa-4dc0-98ec-d17a070d1a6c"
      },
      "cell_type": "code",
      "source": [
        "calculated_df_sales.shape"
      ],
      "execution_count": 0,
      "outputs": [
        {
          "output_type": "execute_result",
          "data": {
            "text/plain": [
              "(5133, 19)"
            ]
          },
          "metadata": {
            "tags": []
          },
          "execution_count": 68
        }
      ]
    },
    {
      "metadata": {
        "id": "tWC_-5tkwvwi",
        "colab_type": "code",
        "colab": {}
      },
      "cell_type": "code",
      "source": [
        "#dropping the rows with NAN owing to missing data\n",
        "calculated_df_sales.dropna(inplace=True)"
      ],
      "execution_count": 0,
      "outputs": []
    },
    {
      "metadata": {
        "id": "oZaUmZ7Wwvwm",
        "colab_type": "code",
        "colab": {},
        "outputId": "85383bcd-d075-45c8-de61-6f420c8ade8b"
      },
      "cell_type": "code",
      "source": [
        "calculated_df_sales.shape"
      ],
      "execution_count": 0,
      "outputs": [
        {
          "output_type": "execute_result",
          "data": {
            "text/plain": [
              "(591, 19)"
            ]
          },
          "metadata": {
            "tags": []
          },
          "execution_count": 70
        }
      ]
    },
    {
      "metadata": {
        "id": "JnbpNp3cwvwu",
        "colab_type": "code",
        "colab": {},
        "outputId": "ae047087-9798-42e9-d2e2-c6360ff343b4"
      },
      "cell_type": "code",
      "source": [
        "calculated_df_sales.head()"
      ],
      "execution_count": 0,
      "outputs": [
        {
          "output_type": "execute_result",
          "data": {
            "text/html": [
              "<div>\n",
              "<style scoped>\n",
              "    .dataframe tbody tr th:only-of-type {\n",
              "        vertical-align: middle;\n",
              "    }\n",
              "\n",
              "    .dataframe tbody tr th {\n",
              "        vertical-align: top;\n",
              "    }\n",
              "\n",
              "    .dataframe thead th {\n",
              "        text-align: right;\n",
              "    }\n",
              "</style>\n",
              "<table border=\"1\" class=\"dataframe\">\n",
              "  <thead>\n",
              "    <tr style=\"text-align: right;\">\n",
              "      <th></th>\n",
              "      <th>locn_nbr</th>\n",
              "      <th>mth_desc</th>\n",
              "      <th>wk_nbr</th>\n",
              "      <th>soar_nm</th>\n",
              "      <th>div_nm</th>\n",
              "      <th>ln_dept_desc</th>\n",
              "      <th>sub_ln_catg_grp_desc</th>\n",
              "      <th>total_quantity</th>\n",
              "      <th>total_sales</th>\n",
              "      <th>total_margin</th>\n",
              "      <th>3yr_rollingAvg_wk_total_sales</th>\n",
              "      <th>change%_3yrRollingAvg_total_sales</th>\n",
              "      <th>total_sales_wk_last_yr</th>\n",
              "      <th>change%_total_sales_wk_last_yr</th>\n",
              "      <th>total_sales_last_wk</th>\n",
              "      <th>change%_total_sales_last_3wkMA</th>\n",
              "      <th>all_store_mean</th>\n",
              "      <th>change%_avg_storeBU</th>\n",
              "      <th>change%_total_sales_last_wk</th>\n",
              "    </tr>\n",
              "  </thead>\n",
              "  <tbody>\n",
              "    <tr>\n",
              "      <th>11296</th>\n",
              "      <td>7705</td>\n",
              "      <td>February,2019</td>\n",
              "      <td>201901</td>\n",
              "      <td>SEASONAL</td>\n",
              "      <td>SEASONAL</td>\n",
              "      <td>VALENTINES</td>\n",
              "      <td>PLUSH</td>\n",
              "      <td>2924</td>\n",
              "      <td>11304.91</td>\n",
              "      <td>606.56</td>\n",
              "      <td>3004.92</td>\n",
              "      <td>73.42</td>\n",
              "      <td>109.42</td>\n",
              "      <td>99.03</td>\n",
              "      <td>5762.29</td>\n",
              "      <td>76.11</td>\n",
              "      <td>222.11</td>\n",
              "      <td>98.04</td>\n",
              "      <td>49.03</td>\n",
              "    </tr>\n",
              "    <tr>\n",
              "      <th>13718</th>\n",
              "      <td>7705</td>\n",
              "      <td>February,2019</td>\n",
              "      <td>201901</td>\n",
              "      <td>SUPPORT UNITS</td>\n",
              "      <td>REGIONAL MERCHANDISE</td>\n",
              "      <td>REGIONAL MERCHANDISE</td>\n",
              "      <td>REGIONAL MERCHANDISE</td>\n",
              "      <td>215</td>\n",
              "      <td>1868.65</td>\n",
              "      <td>932.90</td>\n",
              "      <td>811.36</td>\n",
              "      <td>56.58</td>\n",
              "      <td>166.90</td>\n",
              "      <td>91.07</td>\n",
              "      <td>1920.56</td>\n",
              "      <td>44.40</td>\n",
              "      <td>844.67</td>\n",
              "      <td>54.80</td>\n",
              "      <td>-2.78</td>\n",
              "    </tr>\n",
              "    <tr>\n",
              "      <th>26424</th>\n",
              "      <td>7705</td>\n",
              "      <td>February,2019</td>\n",
              "      <td>201901</td>\n",
              "      <td>DRUG STORE</td>\n",
              "      <td>CARDS, WRAP &amp; PARTY</td>\n",
              "      <td>GREETING CARDS</td>\n",
              "      <td>SBT AG WRAP</td>\n",
              "      <td>699</td>\n",
              "      <td>2257.98</td>\n",
              "      <td>1125.28</td>\n",
              "      <td>2073.25</td>\n",
              "      <td>8.18</td>\n",
              "      <td>2290.16</td>\n",
              "      <td>-1.43</td>\n",
              "      <td>1562.14</td>\n",
              "      <td>25.88</td>\n",
              "      <td>354.68</td>\n",
              "      <td>84.29</td>\n",
              "      <td>30.82</td>\n",
              "    </tr>\n",
              "    <tr>\n",
              "      <th>58859</th>\n",
              "      <td>7705</td>\n",
              "      <td>February,2019</td>\n",
              "      <td>201901</td>\n",
              "      <td>GROCERY &amp; HOUSEHOLD</td>\n",
              "      <td>TOBACCO &amp; ALCOHOL</td>\n",
              "      <td>CIGARETTES/TOBACCO</td>\n",
              "      <td>CIGARETTES</td>\n",
              "      <td>281</td>\n",
              "      <td>3820.04</td>\n",
              "      <td>550.10</td>\n",
              "      <td>6540.90</td>\n",
              "      <td>-71.23</td>\n",
              "      <td>6885.71</td>\n",
              "      <td>-80.25</td>\n",
              "      <td>7006.16</td>\n",
              "      <td>-70.41</td>\n",
              "      <td>303.59</td>\n",
              "      <td>92.05</td>\n",
              "      <td>-83.41</td>\n",
              "    </tr>\n",
              "    <tr>\n",
              "      <th>62956</th>\n",
              "      <td>7705</td>\n",
              "      <td>February,2019</td>\n",
              "      <td>201901</td>\n",
              "      <td>APPAREL - RTW / WOMENS</td>\n",
              "      <td>RTW</td>\n",
              "      <td>MISSY SPORTSWEAR</td>\n",
              "      <td>CLASSIC ELEMENTS</td>\n",
              "      <td>1</td>\n",
              "      <td>7.98</td>\n",
              "      <td>4.08</td>\n",
              "      <td>31.20</td>\n",
              "      <td>-290.99</td>\n",
              "      <td>0.00</td>\n",
              "      <td>100.00</td>\n",
              "      <td>0.00</td>\n",
              "      <td>-195.07</td>\n",
              "      <td>13.47</td>\n",
              "      <td>-68.76</td>\n",
              "      <td>100.00</td>\n",
              "    </tr>\n",
              "  </tbody>\n",
              "</table>\n",
              "</div>"
            ],
            "text/plain": [
              "       locn_nbr       mth_desc  wk_nbr                 soar_nm  \\\n",
              "11296      7705  February,2019  201901                SEASONAL   \n",
              "13718      7705  February,2019  201901           SUPPORT UNITS   \n",
              "26424      7705  February,2019  201901              DRUG STORE   \n",
              "58859      7705  February,2019  201901     GROCERY & HOUSEHOLD   \n",
              "62956      7705  February,2019  201901  APPAREL - RTW / WOMENS   \n",
              "\n",
              "                     div_nm          ln_dept_desc       sub_ln_catg_grp_desc  \\\n",
              "11296              SEASONAL            VALENTINES                      PLUSH   \n",
              "13718  REGIONAL MERCHANDISE  REGIONAL MERCHANDISE       REGIONAL MERCHANDISE   \n",
              "26424   CARDS, WRAP & PARTY        GREETING CARDS                SBT AG WRAP   \n",
              "58859     TOBACCO & ALCOHOL    CIGARETTES/TOBACCO                 CIGARETTES   \n",
              "62956                   RTW      MISSY SPORTSWEAR  CLASSIC ELEMENTS            \n",
              "\n",
              "       total_quantity  total_sales  total_margin  \\\n",
              "11296            2924     11304.91        606.56   \n",
              "13718             215      1868.65        932.90   \n",
              "26424             699      2257.98       1125.28   \n",
              "58859             281      3820.04        550.10   \n",
              "62956               1         7.98          4.08   \n",
              "\n",
              "       3yr_rollingAvg_wk_total_sales  change%_3yrRollingAvg_total_sales  \\\n",
              "11296                        3004.92                              73.42   \n",
              "13718                         811.36                              56.58   \n",
              "26424                        2073.25                               8.18   \n",
              "58859                        6540.90                             -71.23   \n",
              "62956                          31.20                            -290.99   \n",
              "\n",
              "       total_sales_wk_last_yr  change%_total_sales_wk_last_yr  \\\n",
              "11296                  109.42                           99.03   \n",
              "13718                  166.90                           91.07   \n",
              "26424                 2290.16                           -1.43   \n",
              "58859                 6885.71                          -80.25   \n",
              "62956                    0.00                          100.00   \n",
              "\n",
              "       total_sales_last_wk  change%_total_sales_last_3wkMA  all_store_mean  \\\n",
              "11296              5762.29                           76.11          222.11   \n",
              "13718              1920.56                           44.40          844.67   \n",
              "26424              1562.14                           25.88          354.68   \n",
              "58859              7006.16                          -70.41          303.59   \n",
              "62956                 0.00                         -195.07           13.47   \n",
              "\n",
              "       change%_avg_storeBU  change%_total_sales_last_wk  \n",
              "11296                98.04                        49.03  \n",
              "13718                54.80                        -2.78  \n",
              "26424                84.29                        30.82  \n",
              "58859                92.05                       -83.41  \n",
              "62956               -68.76                       100.00  "
            ]
          },
          "metadata": {
            "tags": []
          },
          "execution_count": 71
        }
      ]
    },
    {
      "metadata": {
        "id": "GDk-ivUiwvwx",
        "colab_type": "code",
        "colab": {}
      },
      "cell_type": "code",
      "source": [
        "#applying the threshold rule for getting the anomalies\n",
        "rule1Anomaly = calculated_df_sales[calculated_df_sales.apply(lambda row: anomalyRule1(row=row,metric='total_sales',threshold_3yrMA=Threshold_3yrMA,threshold_lastyear=Threshold_lastyear,threshold_lastweek=Threshold_lastweek,threshold_3weekMA=Threshold_3weekMA,threshold_avgStore=Threshold_avgStore), axis=1)].copy()"
      ],
      "execution_count": 0,
      "outputs": []
    },
    {
      "metadata": {
        "id": "r1bIbFOxwvw0",
        "colab_type": "code",
        "colab": {},
        "outputId": "3cc6d76c-a217-4769-ba6a-ca36b451f60b"
      },
      "cell_type": "code",
      "source": [
        "rule1Anomaly.shape"
      ],
      "execution_count": 0,
      "outputs": [
        {
          "output_type": "execute_result",
          "data": {
            "text/plain": [
              "(302, 19)"
            ]
          },
          "metadata": {
            "tags": []
          },
          "execution_count": 73
        }
      ]
    },
    {
      "metadata": {
        "id": "f8-dZ4vWwvw4",
        "colab_type": "code",
        "colab": {}
      },
      "cell_type": "code",
      "source": [
        "del rule1Anomaly['locn_nbr']\n",
        "del rule1Anomaly['mth_desc']"
      ],
      "execution_count": 0,
      "outputs": []
    },
    {
      "metadata": {
        "scrolled": true,
        "id": "b6cK0HM6wvw9",
        "colab_type": "code",
        "colab": {},
        "outputId": "9a8db954-94c9-4d92-a5c6-d818767f43ee"
      },
      "cell_type": "code",
      "source": [
        "freeze_header(rule1Anomaly.sort_values(by=['total_sales'],ascending=False).reset_index(drop=True),num_columns=10)"
      ],
      "execution_count": 0,
      "outputs": [
        {
          "output_type": "display_data",
          "data": {
            "application/vnd.jupyter.widget-view+json": {
              "model_id": "062eabc997474a159d6c21cb9bbe5891",
              "version_major": 2,
              "version_minor": 0
            },
            "text/plain": [
              "interactive(children=(IntSlider(value=20, description='rows', max=302, min=20, readout=False), IntSlider(value…"
            ]
          },
          "metadata": {
            "tags": []
          }
        }
      ]
    },
    {
      "metadata": {
        "id": "G6TJuCUowvxB",
        "colab_type": "text"
      },
      "cell_type": "markdown",
      "source": [
        "### Rule 4: \n",
        "If a) the week over week sales margin of a category group changes by 50% (+ve or -ve) or more, and b) compared to the sales margin of the same week last year, and c) compared to the average of last 3 years sales margin in that same week - then flag the week as an anomaly. For example: if a) Week 9, 2019 sales margin in Seasonal Category group is $680.64 as compared to week 8, 2019 sales in the same category group was $1200.89 and b) sales margin in week 9, 2018 in the same category group was $1500.78 and c) average of sales margin in last 3 yrs (Week 9 in 2016 - Week 8 in 2018) was $1300.56 - then flag week 9, 2019 sales margin in Seasonal Category group as an anomaly."
      ]
    },
    {
      "metadata": {
        "id": "of7OTmwKwvxB",
        "colab_type": "code",
        "colab": {}
      },
      "cell_type": "code",
      "source": [
        "def freeze_header(df, num_rows=20, num_columns=10, step_rows=1,step_columns=1): \n",
        "    @interact(last_row=IntSlider(min=min(num_rows, df.shape[0]), max=df.shape[0], step=step_rows, description='rows', readout=False, disabled=False, continuous_update=True, orientation='horizontal', slider_color='purple'), last_column=IntSlider(min=min(num_columns, df.shape[1]), max=df.shape[1], step=step_columns, description='columns', readout=False, disabled=False, continuous_update=True, orientation='horizontal', slider_color='purple')) \n",
        "    def freezeheader(last_row, last_column): \n",
        "        display(df.iloc[max(0, last_row-num_rows):last_row, max(0, last_column-num_columns):last_column])"
      ],
      "execution_count": 0,
      "outputs": []
    },
    {
      "metadata": {
        "id": "Pgs-_TNMwvxE",
        "colab_type": "code",
        "colab": {}
      },
      "cell_type": "code",
      "source": [
        ""
      ],
      "execution_count": 0,
      "outputs": []
    }
  ]
}